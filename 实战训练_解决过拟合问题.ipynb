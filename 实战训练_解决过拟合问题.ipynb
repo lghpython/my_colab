{
  "nbformat": 4,
  "nbformat_minor": 0,
  "metadata": {
    "colab": {
      "provenance": [],
      "authorship_tag": "ABX9TyO821zZPuQaPZ9EVCzGkFHy",
      "include_colab_link": true
    },
    "kernelspec": {
      "name": "python3",
      "display_name": "Python 3"
    },
    "language_info": {
      "name": "python"
    }
  },
  "cells": [
    {
      "cell_type": "markdown",
      "metadata": {
        "id": "view-in-github",
        "colab_type": "text"
      },
      "source": [
        "<a href=\"https://colab.research.google.com/github/lghpython/my_colab/blob/main/%E5%AE%9E%E6%88%98%E8%AE%AD%E7%BB%83_%E8%A7%A3%E5%86%B3%E8%BF%87%E6%8B%9F%E5%90%88%E9%97%AE%E9%A2%98.ipynb\" target=\"_parent\"><img src=\"https://colab.research.google.com/assets/colab-badge.svg\" alt=\"Open In Colab\"/></a>"
      ]
    },
    {
      "cell_type": "markdown",
      "source": [
        "#### **任务：使用Keras构建一个简单的神经网络，并尝试解决过拟合问题**\n",
        "\n",
        "我们将使用Keras构建一个简单的神经网络，并在MNIST手写数字数据集上进行训练。然后，我们将尝试使用正则化和Dropout来解决过拟合问题。\n",
        "\n",
        "**步骤：**\n",
        "\n",
        "1.  **导入必要的库**"
      ],
      "metadata": {
        "id": "CeOo2x1jaOhX"
      }
    },
    {
      "cell_type": "code",
      "execution_count": 1,
      "metadata": {
        "id": "MD1BO-ZIZbCR"
      },
      "outputs": [],
      "source": [
        "import numpy as np\n",
        "from keras.datasets import mnist\n",
        "from keras.models import Sequential\n",
        "from keras.layers import Dense,Dropout\n",
        "from keras.regularizers import l2\n",
        "from keras.utils import to_categorical"
      ]
    },
    {
      "cell_type": "markdown",
      "source": [
        "2. 加载MNIST数据库"
      ],
      "metadata": {
        "id": "u1uyqrIBahmf"
      }
    },
    {
      "cell_type": "code",
      "source": [
        "(x_train,y_train),(x_test,y_test) = mnist.load_data()\n",
        "\n",
        "x_train = x_train.astype('float32')/255.0\n",
        "x_test = x_test.astype('float32')/255.0\n",
        "\n",
        "y_train = to_categorical(y_train,10)\n",
        "y_test = to_categorical(y_test,10)\n",
        "\n",
        "x_train = x_train.reshape((60000,784))\n",
        "x_test = x_test.reshape((10000,784))\n"
      ],
      "metadata": {
        "id": "6nrkqye4aM5w"
      },
      "execution_count": 13,
      "outputs": []
    },
    {
      "cell_type": "markdown",
      "source": [
        "3. 构建一个简单的神经网络模型"
      ],
      "metadata": {
        "id": "PzzwbeAhbd7h"
      }
    },
    {
      "cell_type": "code",
      "source": [
        "model = Sequential()\n",
        "model.add(Dense(128, activation='relu',input_shape=(784,)))\n",
        "model.add(Dense(128,activation='relu'))\n",
        "model.add(Dense(10,activation='softmax'))"
      ],
      "metadata": {
        "colab": {
          "base_uri": "https://localhost:8080/"
        },
        "id": "R6VFCu0sbbZl",
        "outputId": "299ea8a5-499f-47c2-9b1f-b2328dec71fb"
      },
      "execution_count": 14,
      "outputs": [
        {
          "output_type": "stream",
          "name": "stderr",
          "text": [
            "/usr/local/lib/python3.11/dist-packages/keras/src/layers/core/dense.py:87: UserWarning: Do not pass an `input_shape`/`input_dim` argument to a layer. When using Sequential models, prefer using an `Input(shape)` object as the first layer in the model instead.\n",
            "  super().__init__(activity_regularizer=activity_regularizer, **kwargs)\n"
          ]
        }
      ]
    },
    {
      "cell_type": "markdown",
      "source": [
        "4. 编译模型"
      ],
      "metadata": {
        "id": "yI61ymvScBaI"
      }
    },
    {
      "cell_type": "code",
      "source": [
        "model.compile(optimizer='adam',loss='categorical_crossentropy',metrics=['accuracy'])"
      ],
      "metadata": {
        "id": "9b1vV2SPcAXb"
      },
      "execution_count": 15,
      "outputs": []
    },
    {
      "cell_type": "markdown",
      "source": [
        "5. 训练模型"
      ],
      "metadata": {
        "id": "0sdujtA0cchY"
      }
    },
    {
      "cell_type": "code",
      "source": [
        "history = model.fit(x_train,y_train,epochs=10,batch_size=128,validation_split=0.2)"
      ],
      "metadata": {
        "colab": {
          "base_uri": "https://localhost:8080/"
        },
        "id": "XWM8CEnBcV6Z",
        "outputId": "b78202bd-2105-49a0-8429-b3ccdda134e8"
      },
      "execution_count": 16,
      "outputs": [
        {
          "output_type": "stream",
          "name": "stdout",
          "text": [
            "Epoch 1/10\n",
            "\u001b[1m375/375\u001b[0m \u001b[32m━━━━━━━━━━━━━━━━━━━━\u001b[0m\u001b[37m\u001b[0m \u001b[1m6s\u001b[0m 11ms/step - accuracy: 0.8146 - loss: 0.6541 - val_accuracy: 0.9488 - val_loss: 0.1696\n",
            "Epoch 2/10\n",
            "\u001b[1m375/375\u001b[0m \u001b[32m━━━━━━━━━━━━━━━━━━━━\u001b[0m\u001b[37m\u001b[0m \u001b[1m4s\u001b[0m 7ms/step - accuracy: 0.9566 - loss: 0.1469 - val_accuracy: 0.9631 - val_loss: 0.1245\n",
            "Epoch 3/10\n",
            "\u001b[1m375/375\u001b[0m \u001b[32m━━━━━━━━━━━━━━━━━━━━\u001b[0m\u001b[37m\u001b[0m \u001b[1m3s\u001b[0m 9ms/step - accuracy: 0.9705 - loss: 0.1028 - val_accuracy: 0.9696 - val_loss: 0.1068\n",
            "Epoch 4/10\n",
            "\u001b[1m375/375\u001b[0m \u001b[32m━━━━━━━━━━━━━━━━━━━━\u001b[0m\u001b[37m\u001b[0m \u001b[1m4s\u001b[0m 6ms/step - accuracy: 0.9792 - loss: 0.0704 - val_accuracy: 0.9701 - val_loss: 0.0975\n",
            "Epoch 5/10\n",
            "\u001b[1m375/375\u001b[0m \u001b[32m━━━━━━━━━━━━━━━━━━━━\u001b[0m\u001b[37m\u001b[0m \u001b[1m3s\u001b[0m 7ms/step - accuracy: 0.9833 - loss: 0.0566 - val_accuracy: 0.9729 - val_loss: 0.0956\n",
            "Epoch 6/10\n",
            "\u001b[1m375/375\u001b[0m \u001b[32m━━━━━━━━━━━━━━━━━━━━\u001b[0m\u001b[37m\u001b[0m \u001b[1m3s\u001b[0m 7ms/step - accuracy: 0.9864 - loss: 0.0445 - val_accuracy: 0.9737 - val_loss: 0.0922\n",
            "Epoch 7/10\n",
            "\u001b[1m375/375\u001b[0m \u001b[32m━━━━━━━━━━━━━━━━━━━━\u001b[0m\u001b[37m\u001b[0m \u001b[1m5s\u001b[0m 7ms/step - accuracy: 0.9893 - loss: 0.0346 - val_accuracy: 0.9704 - val_loss: 0.1027\n",
            "Epoch 8/10\n",
            "\u001b[1m375/375\u001b[0m \u001b[32m━━━━━━━━━━━━━━━━━━━━\u001b[0m\u001b[37m\u001b[0m \u001b[1m2s\u001b[0m 6ms/step - accuracy: 0.9929 - loss: 0.0250 - val_accuracy: 0.9718 - val_loss: 0.1051\n",
            "Epoch 9/10\n",
            "\u001b[1m375/375\u001b[0m \u001b[32m━━━━━━━━━━━━━━━━━━━━\u001b[0m\u001b[37m\u001b[0m \u001b[1m3s\u001b[0m 7ms/step - accuracy: 0.9933 - loss: 0.0230 - val_accuracy: 0.9728 - val_loss: 0.0972\n",
            "Epoch 10/10\n",
            "\u001b[1m375/375\u001b[0m \u001b[32m━━━━━━━━━━━━━━━━━━━━\u001b[0m\u001b[37m\u001b[0m \u001b[1m3s\u001b[0m 9ms/step - accuracy: 0.9944 - loss: 0.0183 - val_accuracy: 0.9742 - val_loss: 0.0978\n"
          ]
        }
      ]
    },
    {
      "cell_type": "markdown",
      "source": [
        "6. 评估模型"
      ],
      "metadata": {
        "id": "PF6kt2sSdiS5"
      }
    },
    {
      "cell_type": "code",
      "source": [
        "test_loss,test_acc = model.evaluate(x_test,y_test)\n",
        "print(f'Test accury:{test_acc}')"
      ],
      "metadata": {
        "colab": {
          "base_uri": "https://localhost:8080/"
        },
        "id": "YYccxSvgcupn",
        "outputId": "4b76bf4f-fe73-4e1b-c5b9-b9af4fffdc01"
      },
      "execution_count": 17,
      "outputs": [
        {
          "output_type": "stream",
          "name": "stdout",
          "text": [
            "\u001b[1m313/313\u001b[0m \u001b[32m━━━━━━━━━━━━━━━━━━━━\u001b[0m\u001b[37m\u001b[0m \u001b[1m1s\u001b[0m 3ms/step - accuracy: 0.9727 - loss: 0.0993\n",
            "Test accury:0.9757000207901001\n"
          ]
        }
      ]
    },
    {
      "cell_type": "markdown",
      "source": [
        "7. 尝试解决过拟合问题（虽然我觉得没有过拟合， 但是还是走一下流程。）\n",
        "- 添加L2正则化"
      ],
      "metadata": {
        "id": "AXqamOc7f7l_"
      }
    },
    {
      "cell_type": "code",
      "source": [
        "model_regularized = Sequential()\n",
        "model_regularized.add(Dense(128,activation='relu',input_shape=(784,),kernel_regularizer=l2(0.01)))\n",
        "model_regularized.add(Dense(128,activation='relu',kernel_regularizer=l2(0.01)))\n",
        "model_regularized.add(Dense(10,activation='softmax'))\n",
        "\n",
        "model_regularized.compile(optimizer='adam',loss='categorical_crossentropy',metrics=['accuracy'])\n",
        "\n",
        "model_regularized.fit(x_train,y_train,epochs=10,batch_size=128,validation_split=0.2)\n",
        "\n",
        "test_loss_regularized, test_acc_regularized = model_regularized.evaluate(x_test,y_test)\n",
        "print(f'Test accury with regularization:{test_acc_regularized}')"
      ],
      "metadata": {
        "colab": {
          "base_uri": "https://localhost:8080/"
        },
        "id": "MILoO_SbdxXX",
        "outputId": "fec709d0-08a5-499f-fa48-699d63c87b10"
      },
      "execution_count": 20,
      "outputs": [
        {
          "output_type": "stream",
          "name": "stdout",
          "text": [
            "Epoch 1/10\n",
            "\u001b[1m375/375\u001b[0m \u001b[32m━━━━━━━━━━━━━━━━━━━━\u001b[0m\u001b[37m\u001b[0m \u001b[1m5s\u001b[0m 10ms/step - accuracy: 0.8023 - loss: 2.2170 - val_accuracy: 0.9236 - val_loss: 0.6018\n",
            "Epoch 2/10\n",
            "\u001b[1m375/375\u001b[0m \u001b[32m━━━━━━━━━━━━━━━━━━━━\u001b[0m\u001b[37m\u001b[0m \u001b[1m3s\u001b[0m 9ms/step - accuracy: 0.9184 - loss: 0.5845 - val_accuracy: 0.9354 - val_loss: 0.4957\n",
            "Epoch 3/10\n",
            "\u001b[1m375/375\u001b[0m \u001b[32m━━━━━━━━━━━━━━━━━━━━\u001b[0m\u001b[37m\u001b[0m \u001b[1m4s\u001b[0m 10ms/step - accuracy: 0.9308 - loss: 0.4896 - val_accuracy: 0.9336 - val_loss: 0.4613\n",
            "Epoch 4/10\n",
            "\u001b[1m375/375\u001b[0m \u001b[32m━━━━━━━━━━━━━━━━━━━━\u001b[0m\u001b[37m\u001b[0m \u001b[1m5s\u001b[0m 14ms/step - accuracy: 0.9355 - loss: 0.4576 - val_accuracy: 0.9446 - val_loss: 0.4097\n",
            "Epoch 5/10\n",
            "\u001b[1m375/375\u001b[0m \u001b[32m━━━━━━━━━━━━━━━━━━━━\u001b[0m\u001b[37m\u001b[0m \u001b[1m7s\u001b[0m 7ms/step - accuracy: 0.9388 - loss: 0.4248 - val_accuracy: 0.9411 - val_loss: 0.4206\n",
            "Epoch 6/10\n",
            "\u001b[1m375/375\u001b[0m \u001b[32m━━━━━━━━━━━━━━━━━━━━\u001b[0m\u001b[37m\u001b[0m \u001b[1m6s\u001b[0m 10ms/step - accuracy: 0.9425 - loss: 0.4044 - val_accuracy: 0.9511 - val_loss: 0.3759\n",
            "Epoch 7/10\n",
            "\u001b[1m375/375\u001b[0m \u001b[32m━━━━━━━━━━━━━━━━━━━━\u001b[0m\u001b[37m\u001b[0m \u001b[1m4s\u001b[0m 8ms/step - accuracy: 0.9475 - loss: 0.3811 - val_accuracy: 0.9504 - val_loss: 0.3641\n",
            "Epoch 8/10\n",
            "\u001b[1m375/375\u001b[0m \u001b[32m━━━━━━━━━━━━━━━━━━━━\u001b[0m\u001b[37m\u001b[0m \u001b[1m5s\u001b[0m 7ms/step - accuracy: 0.9480 - loss: 0.3683 - val_accuracy: 0.9498 - val_loss: 0.3526\n",
            "Epoch 9/10\n",
            "\u001b[1m375/375\u001b[0m \u001b[32m━━━━━━━━━━━━━━━━━━━━\u001b[0m\u001b[37m\u001b[0m \u001b[1m4s\u001b[0m 10ms/step - accuracy: 0.9518 - loss: 0.3538 - val_accuracy: 0.9586 - val_loss: 0.3285\n",
            "Epoch 10/10\n",
            "\u001b[1m375/375\u001b[0m \u001b[32m━━━━━━━━━━━━━━━━━━━━\u001b[0m\u001b[37m\u001b[0m \u001b[1m4s\u001b[0m 7ms/step - accuracy: 0.9512 - loss: 0.3464 - val_accuracy: 0.9581 - val_loss: 0.3240\n",
            "\u001b[1m313/313\u001b[0m \u001b[32m━━━━━━━━━━━━━━━━━━━━\u001b[0m\u001b[37m\u001b[0m \u001b[1m1s\u001b[0m 2ms/step - accuracy: 0.9533 - loss: 0.3476\n",
            "Test accury with regularization:0.9588000178337097\n"
          ]
        }
      ]
    },
    {
      "cell_type": "markdown",
      "source": [
        "- 添加Dropout"
      ],
      "metadata": {
        "id": "deP_GqACiNf0"
      }
    },
    {
      "cell_type": "code",
      "source": [
        "model_dropout = Sequential()\n",
        "model_dropout.add(Dense(128,activation='relu',input_shape=(784,)))\n",
        "model_dropout.add(Dropout(0.5))\n",
        "model_dropout.add(Dense(128,activation='relu'))\n",
        "model_dropout.add(Dropout(0.5))\n",
        "model_dropout.add(Dense(10,activation='softmax'))\n",
        "\n",
        "model_dropout.compile(optimizer='adam',loss='categorical_crossentropy',metrics=['accuracy'])\n",
        "\n",
        "history_dropout = model_dropout.fit(x_train,y_train,epochs=10,batch_size=128,validation_split=0.2)\n",
        "\n",
        "test_loss_dropout, test_acc_dropout = model_dropout.evaluate(x_test,y_test)\n",
        "print(f'Test accuracy with dropout:{test_acc_dropout}')"
      ],
      "metadata": {
        "colab": {
          "base_uri": "https://localhost:8080/"
        },
        "id": "wZpSHocHf5EU",
        "outputId": "8234ffd0-d71b-4f24-e957-715edc61f47e"
      },
      "execution_count": 23,
      "outputs": [
        {
          "output_type": "stream",
          "name": "stdout",
          "text": [
            "Epoch 1/10\n",
            "\u001b[1m375/375\u001b[0m \u001b[32m━━━━━━━━━━━━━━━━━━━━\u001b[0m\u001b[37m\u001b[0m \u001b[1m4s\u001b[0m 8ms/step - accuracy: 0.6213 - loss: 1.1425 - val_accuracy: 0.9352 - val_loss: 0.2238\n",
            "Epoch 2/10\n",
            "\u001b[1m375/375\u001b[0m \u001b[32m━━━━━━━━━━━━━━━━━━━━\u001b[0m\u001b[37m\u001b[0m \u001b[1m4s\u001b[0m 10ms/step - accuracy: 0.8927 - loss: 0.3652 - val_accuracy: 0.9495 - val_loss: 0.1738\n",
            "Epoch 3/10\n",
            "\u001b[1m375/375\u001b[0m \u001b[32m━━━━━━━━━━━━━━━━━━━━\u001b[0m\u001b[37m\u001b[0m \u001b[1m3s\u001b[0m 9ms/step - accuracy: 0.9171 - loss: 0.2885 - val_accuracy: 0.9592 - val_loss: 0.1448\n",
            "Epoch 4/10\n",
            "\u001b[1m375/375\u001b[0m \u001b[32m━━━━━━━━━━━━━━━━━━━━\u001b[0m\u001b[37m\u001b[0m \u001b[1m5s\u001b[0m 9ms/step - accuracy: 0.9288 - loss: 0.2441 - val_accuracy: 0.9628 - val_loss: 0.1284\n",
            "Epoch 5/10\n",
            "\u001b[1m375/375\u001b[0m \u001b[32m━━━━━━━━━━━━━━━━━━━━\u001b[0m\u001b[37m\u001b[0m \u001b[1m4s\u001b[0m 9ms/step - accuracy: 0.9345 - loss: 0.2281 - val_accuracy: 0.9652 - val_loss: 0.1238\n",
            "Epoch 6/10\n",
            "\u001b[1m375/375\u001b[0m \u001b[32m━━━━━━━━━━━━━━━━━━━━\u001b[0m\u001b[37m\u001b[0m \u001b[1m3s\u001b[0m 9ms/step - accuracy: 0.9432 - loss: 0.1966 - val_accuracy: 0.9669 - val_loss: 0.1149\n",
            "Epoch 7/10\n",
            "\u001b[1m375/375\u001b[0m \u001b[32m━━━━━━━━━━━━━━━━━━━━\u001b[0m\u001b[37m\u001b[0m \u001b[1m3s\u001b[0m 8ms/step - accuracy: 0.9455 - loss: 0.1838 - val_accuracy: 0.9672 - val_loss: 0.1129\n",
            "Epoch 8/10\n",
            "\u001b[1m375/375\u001b[0m \u001b[32m━━━━━━━━━━━━━━━━━━━━\u001b[0m\u001b[37m\u001b[0m \u001b[1m3s\u001b[0m 8ms/step - accuracy: 0.9462 - loss: 0.1828 - val_accuracy: 0.9692 - val_loss: 0.1112\n",
            "Epoch 9/10\n",
            "\u001b[1m375/375\u001b[0m \u001b[32m━━━━━━━━━━━━━━━━━━━━\u001b[0m\u001b[37m\u001b[0m \u001b[1m4s\u001b[0m 10ms/step - accuracy: 0.9512 - loss: 0.1643 - val_accuracy: 0.9705 - val_loss: 0.1063\n",
            "Epoch 10/10\n",
            "\u001b[1m375/375\u001b[0m \u001b[32m━━━━━━━━━━━━━━━━━━━━\u001b[0m\u001b[37m\u001b[0m \u001b[1m4s\u001b[0m 8ms/step - accuracy: 0.9532 - loss: 0.1576 - val_accuracy: 0.9728 - val_loss: 0.0992\n",
            "\u001b[1m313/313\u001b[0m \u001b[32m━━━━━━━━━━━━━━━━━━━━\u001b[0m\u001b[37m\u001b[0m \u001b[1m1s\u001b[0m 2ms/step - accuracy: 0.9682 - loss: 0.1057\n",
            "Test accuracy with dropout:0.9728000164031982\n"
          ]
        }
      ]
    },
    {
      "cell_type": "markdown",
      "source": [],
      "metadata": {
        "id": "eqxpEk3DiKi6"
      }
    }
  ]
}